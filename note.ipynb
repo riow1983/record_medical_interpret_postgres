{
 "cells": [
  {
   "cell_type": "code",
   "execution_count": 22,
   "metadata": {
    "collapsed": true
   },
   "outputs": [],
   "source": [
    "import numpy as np\n",
    "import matplotlib.pyplot as plt\n",
    "from flask import Flask, render_template, request\n",
    "#import sqlite3 as sql\n",
    "\n",
    "import pandas as pd\n",
    "from functools import reduce\n",
    "from io import BytesIO"
   ]
  },
  {
   "cell_type": "code",
   "execution_count": 23,
   "metadata": {
    "collapsed": false
   },
   "outputs": [],
   "source": [
    "'''\n",
    "conn = sql.connect(\"database.db\")\n",
    "sqlstring = \"SELECT * FROM report\"\n",
    "df = pd.read_sql(sqlstring,conn)\n",
    "'''"
   ]
  },
  {
   "cell_type": "code",
   "execution_count": null,
   "metadata": {
    "collapsed": true
   },
   "outputs": [],
   "source": []
  },
  {
   "cell_type": "code",
   "execution_count": null,
   "metadata": {
    "collapsed": true
   },
   "outputs": [],
   "source": []
  },
  {
   "cell_type": "code",
   "execution_count": null,
   "metadata": {
    "collapsed": true
   },
   "outputs": [],
   "source": []
  },
  {
   "cell_type": "code",
   "execution_count": 24,
   "metadata": {
    "collapsed": false
   },
   "outputs": [],
   "source": [
    "df[\"time_required\"] = pd.to_datetime(df[\"endtime\"]) - pd.to_datetime(df[\"starttime\"])\n",
    "df[\"time_required(m)\"] = df[\"time_required\"].astype('timedelta64[m]')\n",
    "df[\"month\"] = df[\"starttime\"].apply(lambda x:x[:7])\n",
    "df = df[[\"personnel\",\"month\",\"time_required(m)\"]]"
   ]
  },
  {
   "cell_type": "code",
   "execution_count": 25,
   "metadata": {
    "collapsed": true
   },
   "outputs": [],
   "source": [
    "start = '2017-03'\n",
    "end = '2017-06'"
   ]
  },
  {
   "cell_type": "code",
   "execution_count": 26,
   "metadata": {
    "collapsed": false
   },
   "outputs": [],
   "source": [
    "df = df[(df[\"month\"]>=start)&(df[\"month\"]<=end)]\n",
    "df = df.groupby([\"month\",\"personnel\"]).sum()\n",
    "df = df.reset_index()\n",
    "\n",
    "res = []\n",
    "for month in set(df[\"month\"]):\n",
    "    tmp = df[df[\"month\"]==month]\n",
    "    tmp = tmp.drop(\"month\",1)\n",
    "    tmp = tmp.set_index(\"personnel\").T\n",
    "    tmp[\"month\"] = month\n",
    "    res.append(tmp)\n",
    "\n",
    "dfc = reduce(lambda x,y: pd.concat([x,y]), res)\n",
    "dfc = dfc.set_index(\"month\")\n",
    "dfc = dfc.fillna(0)\n",
    "\n",
    "dfc = dfc.sort_index()\n",
    "\n",
    "col = dfc.columns.tolist()\n",
    "rows = dfc.index.tolist()"
   ]
  },
  {
   "cell_type": "code",
   "execution_count": 27,
   "metadata": {
    "collapsed": false
   },
   "outputs": [
    {
     "data": {
      "text/html": [
       "<div>\n",
       "<table border=\"1\" class=\"dataframe\">\n",
       "  <thead>\n",
       "    <tr style=\"text-align: right;\">\n",
       "      <th></th>\n",
       "      <th>personnel A</th>\n",
       "      <th>personnel B</th>\n",
       "      <th>ryosuke HORIUCHI</th>\n",
       "    </tr>\n",
       "    <tr>\n",
       "      <th>month</th>\n",
       "      <th></th>\n",
       "      <th></th>\n",
       "      <th></th>\n",
       "    </tr>\n",
       "  </thead>\n",
       "  <tbody>\n",
       "    <tr>\n",
       "      <th>2017-03</th>\n",
       "      <td>0.0</td>\n",
       "      <td>0.0</td>\n",
       "      <td>44646.0</td>\n",
       "    </tr>\n",
       "    <tr>\n",
       "      <th>2017-04</th>\n",
       "      <td>0.0</td>\n",
       "      <td>0.0</td>\n",
       "      <td>60.0</td>\n",
       "    </tr>\n",
       "    <tr>\n",
       "      <th>2017-05</th>\n",
       "      <td>0.0</td>\n",
       "      <td>181.0</td>\n",
       "      <td>16088.0</td>\n",
       "    </tr>\n",
       "    <tr>\n",
       "      <th>2017-06</th>\n",
       "      <td>0.0</td>\n",
       "      <td>0.0</td>\n",
       "      <td>17292.0</td>\n",
       "    </tr>\n",
       "  </tbody>\n",
       "</table>\n",
       "</div>"
      ],
      "text/plain": [
       "         personnel A  personnel B  ryosuke HORIUCHI\n",
       "month                                              \n",
       "2017-03          0.0          0.0           44646.0\n",
       "2017-04          0.0          0.0              60.0\n",
       "2017-05          0.0        181.0           16088.0\n",
       "2017-06          0.0          0.0           17292.0"
      ]
     },
     "execution_count": 27,
     "metadata": {},
     "output_type": "execute_result"
    }
   ],
   "source": [
    "dfc"
   ]
  },
  {
   "cell_type": "code",
   "execution_count": 28,
   "metadata": {
    "collapsed": false
   },
   "outputs": [
    {
     "data": {
      "image/png": "[encoded data removed]",
      "text/plain": [
       "<matplotlib.figure.Figure at 0x118b92630>"
      ]
     },
     "metadata": {},
     "output_type": "display_data"
    }
   ],
   "source": [
    "data = dfc\n",
    "columns = col\n",
    "rows = rows\n",
    "\n",
    "# Get some pastel shades for the colors\n",
    "colors = plt.cm.BuPu(np.linspace(0, 0.5, len(rows)))\n",
    "n_rows = len(data)\n",
    "\n",
    "index = np.arange(len(columns)) + 0.3\n",
    "bar_width = 0.4\n",
    "\n",
    "# Initialize the vertical-offset for the stacked bar chart.\n",
    "y_offset = np.array([0.0] * len(columns))\n",
    "\n",
    "plt.figure()\n",
    "\n",
    "# Plot bars and create text labels for the table\n",
    "cell_text = []\n",
    "for row in range(n_rows):\n",
    "    plt.bar(index, data.iloc[row,:], bar_width, bottom=y_offset, color=colors[row])\n",
    "    y_offset = y_offset + data.iloc[row,:]\n",
    "    cell_text.append(['%s' % x for x in data.iloc[row,:]])\n",
    "# Reverse colors and text labels to display the last value at the top.\n",
    "#colors = colors[::-1]\n",
    "#cell_text.reverse()\n",
    "\n",
    "# Add a table at the bottom of the axes\n",
    "the_table = plt.table(cellText=cell_text,\n",
    "                      rowLabels=rows,\n",
    "                      rowColours=colors,\n",
    "                      colLabels=columns,\n",
    "                      loc='bottom')\n",
    "\n",
    "# Adjust layout to make room for the table:\n",
    "plt.subplots_adjust(left=0.2, bottom=0.2)\n",
    "\n",
    "plt.ylabel(\"Time Required (m)\")\n",
    "##plt.yticks(values * value_increment, ['%d' % val for val in values])\n",
    "plt.xticks([])\n",
    "plt.title('English Translation Support')\n",
    "\n",
    "plt.show()\n",
    "#image = BytesIO()\n",
    "#plt.savefig(image, format='png')\n",
    "#image.seek(0)\n",
    "#return send_file(image, attachment_filename=\"image.png\", as_attachment=True)\n",
    "\n",
    "\n",
    "\n",
    "\n",
    "##png_output = StringIO.StringIO()\n",
    "\n",
    "\n"
   ]
  },
  {
   "cell_type": "code",
   "execution_count": 21,
   "metadata": {
    "collapsed": false
   },
   "outputs": [
    {
     "data": {
      "text/plain": [
       "[['0.0', '0.0', '44646.0'],\n",
       " ['0.0', '0.0', '60.0'],\n",
       " ['0.0', '181.0', '16088.0'],\n",
       " ['0.0', '0.0', '17292.0']]"
      ]
     },
     "execution_count": 21,
     "metadata": {},
     "output_type": "execute_result"
    }
   ],
   "source": [
    "cell_text"
   ]
  },
  {
   "cell_type": "code",
   "execution_count": null,
   "metadata": {
    "collapsed": true
   },
   "outputs": [],
   "source": []
  }
 ],
 "metadata": {
  "kernelspec": {
   "display_name": "Python 3",
   "language": "python",
   "name": "python3"
  },
  "language_info": {
   "codemirror_mode": {
    "name": "ipython",
    "version": 3
   },
   "file_extension": ".py",
   "mimetype": "text/x-python",
   "name": "python",
   "nbconvert_exporter": "python",
   "pygments_lexer": "ipython3",
   "version": "3.6.0"
  }
 },
 "nbformat": 4,
 "nbformat_minor": 2
}
